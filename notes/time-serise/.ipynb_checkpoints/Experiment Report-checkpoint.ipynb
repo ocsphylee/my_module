{
 "cells": [
  {
   "cell_type": "markdown",
   "metadata": {},
   "source": [
    "* Convergence of Time series"
   ]
  },
  {
   "cell_type": "code",
   "execution_count": 9,
   "metadata": {},
   "outputs": [],
   "source": [
    "import numpy as np\n",
    "def fod(a_0,a_1,y):\n",
    "    return a_0 + a_1 * y\n",
    "\n",
    "def sod(a_0,a_1,a_2,y_1,y_2):\n",
    "    return a_0 + a_1 * y_1 + a_2 * y_2"
   ]
  },
  {
   "cell_type": "code",
   "execution_count": 66,
   "metadata": {},
   "outputs": [],
   "source": [
    "class diff_eqt:\n",
    "    def __init__(self,initial,param):\n",
    "        if type(initial) == list:\n",
    "            self.seq = initial\n",
    "            self.param = param\n",
    "        else:\n",
    "            self.seq = [initial]\n",
    "            self.param = [param]\n",
    "        self.order = len(self.seq)\n",
    "        \n",
    "    def get_seq(self,t):\n",
    "        while t>0:\n",
    "            t -= 1\n",
    "            y = self.seq[- self.order:].copy()\n",
    "            y_t = 0\n",
    "            for i in range(self.order):\n",
    "                y_t += y[i] * self.param[i]\n",
    "            self.seq.append(y_t)\n",
    "        return self.seq\n",
    "    \n",
    "    def get_param(self):\n",
    "        return self.param\n"
   ]
  },
  {
   "cell_type": "code",
   "execution_count": 70,
   "metadata": {},
   "outputs": [],
   "source": [
    "y = diff_eqt([1,1,1],[0.5,0.5,0.5])"
   ]
  },
  {
   "cell_type": "code",
   "execution_count": 74,
   "metadata": {},
   "outputs": [
    {
     "name": "stdout",
     "output_type": "stream",
     "text": [
      "[1, 0.9, 0.81, 0.7290000000000001, 0.6561000000000001, 0.5904900000000002, 0.5314410000000002, 0.47829690000000014, 0.43046721000000016, 0.38742048900000015, 0.34867844010000015]\n",
      "[1, 0.5, 0.25, 0.125, 0.0625, 0.03125, 0.015625, 0.0078125, 0.00390625, 0.001953125, 0.0009765625]\n",
      "[1, -0.5, 0.25, -0.125, 0.0625, -0.03125, 0.015625, -0.0078125, 0.00390625, -0.001953125, 0.0009765625]\n",
      "[1, 1, 1, 1, 1, 1, 1, 1, 1, 1, 1]\n",
      "[1, 1.2, 1.44, 1.728, 2.0736, 2.48832, 2.9859839999999997, 3.5831807999999996, 4.299816959999999, 5.159780351999999, 6.191736422399999]\n",
      "[1, -1.2, 1.44, -1.728, 2.0736, -2.48832, 2.9859839999999997, -3.5831807999999996, 4.299816959999999, -5.159780351999999, 6.191736422399999]\n"
     ]
    }
   ],
   "source": [
    "initial = 1\n",
    "param = [0.9,0.5,-0.5,1,1.2,-1.2]\n",
    "for par in param:\n",
    "    y_t = diff_eqt(initial,par)\n",
    "    print(y_t.get_seq(10))"
   ]
  },
  {
   "cell_type": "code",
   "execution_count": null,
   "metadata": {},
   "outputs": [],
   "source": []
  }
 ],
 "metadata": {
  "kernelspec": {
   "display_name": "dataServer",
   "language": "python",
   "name": "dataserver"
  },
  "language_info": {
   "codemirror_mode": {
    "name": "ipython",
    "version": 3
   },
   "file_extension": ".py",
   "mimetype": "text/x-python",
   "name": "python",
   "nbconvert_exporter": "python",
   "pygments_lexer": "ipython3",
   "version": "3.7.2"
  },
  "toc": {
   "base_numbering": 1,
   "nav_menu": {},
   "number_sections": true,
   "sideBar": true,
   "skip_h1_title": false,
   "title_cell": "Table of Contents",
   "title_sidebar": "Contents",
   "toc_cell": false,
   "toc_position": {},
   "toc_section_display": true,
   "toc_window_display": false
  }
 },
 "nbformat": 4,
 "nbformat_minor": 2
}
