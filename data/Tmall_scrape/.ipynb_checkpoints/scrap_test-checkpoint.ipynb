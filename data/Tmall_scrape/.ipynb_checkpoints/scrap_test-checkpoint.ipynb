{
 "cells": [
  {
   "cell_type": "code",
   "execution_count": 96,
   "metadata": {},
   "outputs": [],
   "source": [
    "import urllib.request\n",
    "import re\n",
    "from bs4 import BeautifulSoup"
   ]
  },
  {
   "cell_type": "code",
   "execution_count": 97,
   "metadata": {},
   "outputs": [],
   "source": [
    "url = \"http://www.kaplancitic.com.cn/classroom/37/courses\"\n",
    "f = urllib.request.urlopen(url)\n",
    "request = f.read()"
   ]
  },
  {
   "cell_type": "code",
   "execution_count": 98,
   "metadata": {},
   "outputs": [],
   "source": [
    "bsojb = BeautifulSoup(request)"
   ]
  },
  {
   "cell_type": "code",
   "execution_count": 99,
   "metadata": {},
   "outputs": [],
   "source": [
    "ctn_lit = bsojb.findAll('',{\"href\":re.compile('/course/[1-9]+')})"
   ]
  },
  {
   "cell_type": "code",
   "execution_count": 100,
   "metadata": {},
   "outputs": [],
   "source": [
    "r_name = re.compile('2019 CFA Level [\\s\\S]+\\n')"
   ]
  },
  {
   "cell_type": "code",
   "execution_count": 101,
   "metadata": {},
   "outputs": [],
   "source": [
    "href_dic = {}\n",
    "for item in ctn_lit:\n",
    "    href = \"http://www.kaplancitic.com.cn/my\" + item.attrs['href']\n",
    "    try:\n",
    "        name = r_name.findall(item.text)[0].strip('\\n')\n",
    "    except IndexError:\n",
    "        continue\n",
    "    else:\n",
    "        href_dic[name] = href"
   ]
  },
  {
   "cell_type": "code",
   "execution_count": 102,
   "metadata": {},
   "outputs": [
    {
     "data": {
      "text/plain": [
       "{'2019 CFA Level I Ethical and Professional Standards（Qbank题库）': 'http://www.kaplancitic.com.cn/my/course/765',\n",
       " '2019 CFA Level I Quantitative Methods（Qbank题库）': 'http://www.kaplancitic.com.cn/my/course/766',\n",
       " '2019 CFA Level I Economics（Qbank题库）': 'http://www.kaplancitic.com.cn/my/course/767',\n",
       " '2019 CFA Level I Financial Reporting and Analysis（Qbank题库）': 'http://www.kaplancitic.com.cn/my/course/768',\n",
       " '2019 CFA Level I Corporate Finance(Qbank题库）': 'http://www.kaplancitic.com.cn/my/course/769',\n",
       " '2019 CFA Level I Portfolio Management（Qbank题库）': 'http://www.kaplancitic.com.cn/my/course/770',\n",
       " '2019 CFA Level I Equity Investments（Qbank题库）': 'http://www.kaplancitic.com.cn/my/course/771',\n",
       " '2019 CFA Level I Fixed Income（Qbank题库）': 'http://www.kaplancitic.com.cn/my/course/772',\n",
       " '2019 CFA Level I Derivatives（Qbank题库）': 'http://www.kaplancitic.com.cn/my/course/773',\n",
       " '2019 CFA Level I Alternative Investments（Qbank题库）': 'http://www.kaplancitic.com.cn/my/course/774',\n",
       " '2019 CFA Level I Flashcards 知识卡': 'http://www.kaplancitic.com.cn/my/course/775'}"
      ]
     },
     "execution_count": 102,
     "metadata": {},
     "output_type": "execute_result"
    }
   ],
   "source": [
    "href_dic"
   ]
  },
  {
   "cell_type": "code",
   "execution_count": 106,
   "metadata": {},
   "outputs": [
    {
     "data": {
      "text/plain": [
       "<img alt=\"\" class=\"\" data-echo=\"/files/default/2018/09-13/135550684fff707887.PNG\" src=\"/assets/img/default/lazyload_course.png?version=8.2.31_1\"/>"
      ]
     },
     "execution_count": 106,
     "metadata": {},
     "output_type": "execute_result"
    }
   ],
   "source": [
    "ctn_lit[0].img"
   ]
  },
  {
   "cell_type": "code",
   "execution_count": null,
   "metadata": {},
   "outputs": [],
   "source": []
  }
 ],
 "metadata": {
  "kernelspec": {
   "display_name": "Python 3",
   "language": "python",
   "name": "python3"
  },
  "language_info": {
   "codemirror_mode": {
    "name": "ipython",
    "version": 3
   },
   "file_extension": ".py",
   "mimetype": "text/x-python",
   "name": "python",
   "nbconvert_exporter": "python",
   "pygments_lexer": "ipython3",
   "version": "3.7.2"
  },
  "toc": {
   "base_numbering": 1,
   "nav_menu": {},
   "number_sections": true,
   "sideBar": true,
   "skip_h1_title": false,
   "title_cell": "Table of Contents",
   "title_sidebar": "Contents",
   "toc_cell": false,
   "toc_position": {},
   "toc_section_display": true,
   "toc_window_display": false
  }
 },
 "nbformat": 4,
 "nbformat_minor": 2
}
