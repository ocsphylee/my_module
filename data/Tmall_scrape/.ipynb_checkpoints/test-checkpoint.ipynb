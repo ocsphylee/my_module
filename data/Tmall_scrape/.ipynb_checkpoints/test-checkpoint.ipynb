{
 "cells": [
  {
   "cell_type": "code",
   "execution_count": 1,
   "metadata": {},
   "outputs": [],
   "source": [
    "from urllib.request import urlopen\n",
    "from bs4 import BeautifulSoup\n",
    "import re\n",
    "from docx import Document\n",
    "import os"
   ]
  },
  {
   "cell_type": "code",
   "execution_count": 2,
   "metadata": {},
   "outputs": [],
   "source": [
    "html = urlopen('file:///E:/jupyter_files/CFA1/financial/Understanding%20Income%20Statements-Part1.htm')\n",
    "bs0bj = BeautifulSoup(html.read())\n",
    "text = bs0bj.findAll(id,{'class':\"testpaper-question-body\"})"
   ]
  },
  {
   "cell_type": "code",
   "execution_count": 3,
   "metadata": {},
   "outputs": [],
   "source": [
    "doc = Document()\n",
    "for i in range(len(text)):\n",
    "    t = i+1\n",
    "    st_t = text[i].p.text.replace('\\r','').replace('\\n','')\n",
    "    doc.add_paragraph('['+str(t)+']' +\"  \"+ st_t )\n",
    "    try:\n",
    "        doc.add_picture(text[i].img['src'])\n",
    "    except:\n",
    "        continue\n",
    "    finally:\n",
    "        b = text[i].ul.text\n",
    "        in_b = b.find('B') \n",
    "        in_c = b.find('C') \n",
    "        st_a = ''.join([b[i] for i in range(len(b)) if i!= in_b-1 and i!=in_c-1])\n",
    "        doc.add_paragraph(st_a)\n",
    "doc.save('E:/CFA/quantitative2.docx')"
   ]
  },
  {
   "cell_type": "code",
   "execution_count": 4,
   "metadata": {},
   "outputs": [
    {
     "data": {
      "text/plain": [
       "'Understanding Income Statements-Part1_files/1147026103ac394874.png'"
      ]
     },
     "execution_count": 4,
     "metadata": {},
     "output_type": "execute_result"
    }
   ],
   "source": [
    "text[0].img['src'].replace('%20',' ')"
   ]
  },
  {
   "cell_type": "code",
   "execution_count": 18,
   "metadata": {},
   "outputs": [],
   "source": [
    "from docx.shared import Inches\n",
    "dd = Document()\n",
    "dd.add_picture('E:/jupyter_files/CFA1/financial/' + text[0].img['src'].replace('%20',' '),\n",
    "              width=Inches(6))\n",
    "dd.save('E:/CFA/test.docx')"
   ]
  },
  {
   "cell_type": "code",
   "execution_count": 10,
   "metadata": {},
   "outputs": [
    {
     "data": {
      "text/plain": [
       "list"
      ]
     },
     "execution_count": 10,
     "metadata": {},
     "output_type": "execute_result"
    }
   ],
   "source": [
    "l1 = os.listdir('E:/jupyter_files/CFA1')\n",
    "type(l1)"
   ]
  },
  {
   "cell_type": "code",
   "execution_count": 14,
   "metadata": {},
   "outputs": [
    {
     "data": {
      "text/plain": [
       "['quantitative2.htm', 'quantitative3.htm']"
      ]
     },
     "execution_count": 14,
     "metadata": {},
     "output_type": "execute_result"
    }
   ],
   "source": [
    "file_lit = []\n",
    "for i in l1:\n",
    "    if re.search(r'htm',i):\n",
    "        file_lit.append(i)\n",
    "file_lit"
   ]
  },
  {
   "cell_type": "code",
   "execution_count": 2,
   "metadata": {},
   "outputs": [],
   "source": [
    "def get_text(html_path):\n",
    "    html = urlopen(html_path)\n",
    "    bs0bj = BeautifulSoup(html.read())\n",
    "    text = bs0bj.findAll(id,{'class':\"testpaper-question-body\"})\n",
    "    return text"
   ]
  },
  {
   "cell_type": "code",
   "execution_count": 3,
   "metadata": {},
   "outputs": [],
   "source": [
    "def save_question(text,f):\n",
    "    doc = Document()\n",
    "    for i in range(len(text)):\n",
    "        t = i+1\n",
    "        st_t = text[i].p.text.replace('\\r','').replace('\\n','')\n",
    "        doc.add_paragraph('['+str(t)+']' +\"  \"+ st_t )\n",
    "        try:\n",
    "            doc.add_picture(text[i].img['src'])\n",
    "        except:\n",
    "            continue\n",
    "        finally:\n",
    "            b = text[i].ul.text\n",
    "            in_b = b.find('B') \n",
    "            in_c = b.find('C') \n",
    "            st_a = ''.join([b[i] for i in range(len(b)) if i!= in_b-1 and i!=in_c-1])\n",
    "            doc.add_paragraph(st_a)\n",
    "    doc.save('E:/CFA/' + f + '.docx')"
   ]
  },
  {
   "cell_type": "code",
   "execution_count": 4,
   "metadata": {},
   "outputs": [],
   "source": [
    "def get_html_path(file_path):\n",
    "    lit = os.listdir(file_path)\n",
    "    file_lit = []\n",
    "    for i in lit:\n",
    "        if re.search(r'htm',i):\n",
    "            file_lit.append(i)\n",
    "    return file_lit"
   ]
  },
  {
   "cell_type": "code",
   "execution_count": 6,
   "metadata": {},
   "outputs": [
    {
     "data": {
      "text/plain": [
       "['quantitative2.htm', 'quantitative3.htm']"
      ]
     },
     "execution_count": 6,
     "metadata": {},
     "output_type": "execute_result"
    }
   ],
   "source": [
    "file_path = 'E:/jupyter_files/CFA1/'\n",
    "file_lit = get_html_path(file_path)\n",
    "file_lit\n"
   ]
  },
  {
   "cell_type": "code",
   "execution_count": 9,
   "metadata": {},
   "outputs": [
    {
     "name": "stdout",
     "output_type": "stream",
     "text": [
      "file:///E:/jupyter_files/CFA1/quantitative2.htm\n",
      "file:///E:/jupyter_files/CFA1/quantitative3.htm\n"
     ]
    }
   ],
   "source": [
    "for f in file_lit:\n",
    "    print('file:///'+file_path + f)"
   ]
  },
  {
   "cell_type": "code",
   "execution_count": 10,
   "metadata": {},
   "outputs": [],
   "source": [
    "\n",
    "for f in file_lit:\n",
    "    html_path = 'file:///'+file_path + f\n",
    "    text = get_text(html_path)\n",
    "    save_question(text,f)\n"
   ]
  },
  {
   "cell_type": "code",
   "execution_count": null,
   "metadata": {},
   "outputs": [],
   "source": []
  }
 ],
 "metadata": {
  "kernelspec": {
   "display_name": "Python 3",
   "language": "python",
   "name": "python3"
  },
  "language_info": {
   "codemirror_mode": {
    "name": "ipython",
    "version": 3
   },
   "file_extension": ".py",
   "mimetype": "text/x-python",
   "name": "python",
   "nbconvert_exporter": "python",
   "pygments_lexer": "ipython3",
   "version": "3.7.2"
  },
  "toc": {
   "base_numbering": 1,
   "nav_menu": {},
   "number_sections": true,
   "sideBar": true,
   "skip_h1_title": false,
   "title_cell": "Table of Contents",
   "title_sidebar": "Contents",
   "toc_cell": false,
   "toc_position": {},
   "toc_section_display": true,
   "toc_window_display": false
  }
 },
 "nbformat": 4,
 "nbformat_minor": 2
}
