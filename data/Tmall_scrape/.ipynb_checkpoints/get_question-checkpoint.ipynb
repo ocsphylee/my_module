{
 "cells": [
  {
   "cell_type": "code",
   "execution_count": 1,
   "metadata": {},
   "outputs": [],
   "source": [
    "from urllib.request import urlopen\n",
    "from bs4 import BeautifulSoup\n",
    "import re\n",
    "from docx import Document\n",
    "import os\n",
    "from docx.shared import Inches"
   ]
  },
  {
   "cell_type": "code",
   "execution_count": 2,
   "metadata": {},
   "outputs": [],
   "source": [
    "def get_html_path(file_path):\n",
    "    lit = os.listdir(file_path)\n",
    "    file_lit = []\n",
    "    for i in lit:\n",
    "        if re.search(r'htm',i):\n",
    "            file_lit.append(i)\n",
    "    return file_lit"
   ]
  },
  {
   "cell_type": "code",
   "execution_count": 3,
   "metadata": {},
   "outputs": [],
   "source": [
    "def get_text(html_path):\n",
    "    html = urlopen(html_path)\n",
    "    bs0bj = BeautifulSoup(html.read())\n",
    "    text = bs0bj.findAll(id,{'class':\"testpaper-question-body\"})\n",
    "    return text"
   ]
  },
  {
   "cell_type": "code",
   "execution_count": 35,
   "metadata": {},
   "outputs": [],
   "source": [
    "def save_question(text,f,file_path):\n",
    "    doc = Document()\n",
    "    for i in range(len(text)):\n",
    "        t = i+1\n",
    "        st_t = text[i].p.text.replace('\\r','').replace('\\n','')\n",
    "        doc.add_paragraph('['+str(t)+']' +\"  \"+ st_t )\n",
    "        try:\n",
    "            img_p = text[i].img['src'].replace('%20',' ')\n",
    "            doc.add_picture(file_path +img_p,width=Inches(5.6))\n",
    "        except:\n",
    "            continue\n",
    "        finally:\n",
    "            b = text[i].ul.text.replace('\\n','')\n",
    "            in_b = b.find('B.') \n",
    "            in_c = b.find('C.') \n",
    "            st_a = b[:in_b] + '\\n' + b[in_b:in_c] + '\\n' + b[in_c:]\n",
    "            doc.add_paragraph(st_a)\n",
    "    doc.save('E:/CFA/ethic/' + f + '.docx')"
   ]
  },
  {
   "cell_type": "code",
   "execution_count": 36,
   "metadata": {},
   "outputs": [
    {
     "name": "stdout",
     "output_type": "stream",
     "text": [
      "Ethics and Trust in the Investment Profession.htm\n",
      "Global Investment Performance Standards (GIPS).htm\n",
      "Guidance for Standards_Part1.htm\n",
      "Guidance for Standards_Part2.htm\n",
      "Guidance for Standards_part3.htm\n",
      "Introduction to the Global Investment Performance Standards (GIPS).htm\n",
      "Professional Standards of Practice.htm\n",
      "7done\n"
     ]
    }
   ],
   "source": [
    "file_path = 'E:/jupyter_files/CFA1/ethic/'\n",
    "file_lit = get_html_path(file_path)\n",
    "for f in file_lit:\n",
    "    html_path = 'file:///'+file_path + f\n",
    "    text = get_text(html_path)\n",
    "    save_question(text,f,file_path)\n",
    "    print(f)\n",
    "print(str(len(file_lit)) + 'done')"
   ]
  },
  {
   "cell_type": "code",
   "execution_count": 28,
   "metadata": {},
   "outputs": [
    {
     "name": "stdout",
     "output_type": "stream",
     "text": [
      "A.fsd \n",
      "\n",
      "B.fdsC \n",
      "\n",
      "\n",
      "C.gre\n"
     ]
    }
   ],
   "source": [
    "st = 'A.fsd \\n\\nB.fdsC \\n\\n\\nC.gre'\n",
    "print(st)\n"
   ]
  },
  {
   "cell_type": "code",
   "execution_count": 10,
   "metadata": {},
   "outputs": [
    {
     "data": {
      "text/plain": [
       "'A'"
      ]
     },
     "execution_count": 10,
     "metadata": {},
     "output_type": "execute_result"
    }
   ],
   "source": [
    "st[0]"
   ]
  },
  {
   "cell_type": "code",
   "execution_count": 19,
   "metadata": {},
   "outputs": [],
   "source": [
    "b = st.find('B')\n",
    "c = st.find('C')"
   ]
  },
  {
   "cell_type": "code",
   "execution_count": 21,
   "metadata": {},
   "outputs": [],
   "source": [
    "st_c  =st.replace('\\n','')"
   ]
  },
  {
   "cell_type": "code",
   "execution_count": 31,
   "metadata": {},
   "outputs": [
    {
     "data": {
      "text/plain": [
       "12"
      ]
     },
     "execution_count": 31,
     "metadata": {},
     "output_type": "execute_result"
    }
   ],
   "source": [
    "b = st_c.find('B.')\n",
    "c = st_c.find('C.')\n",
    "c"
   ]
  },
  {
   "cell_type": "code",
   "execution_count": 23,
   "metadata": {},
   "outputs": [
    {
     "name": "stdout",
     "output_type": "stream",
     "text": [
      "A.fsd \n",
      "B.fds \n",
      "C.gre\n"
     ]
    }
   ],
   "source": [
    "print(st_c[:b] + '\\n' + st_c[b:c] + '\\n' + st_c[c:])"
   ]
  },
  {
   "cell_type": "code",
   "execution_count": 34,
   "metadata": {},
   "outputs": [
    {
     "data": {
      "text/plain": [
       "5"
      ]
     },
     "execution_count": 34,
     "metadata": {},
     "output_type": "execute_result"
    }
   ],
   "source": [
    "'AbbCvC.'.find('C.')"
   ]
  },
  {
   "cell_type": "code",
   "execution_count": null,
   "metadata": {},
   "outputs": [],
   "source": []
  }
 ],
 "metadata": {
  "kernelspec": {
   "display_name": "Python 3",
   "language": "python",
   "name": "python3"
  },
  "language_info": {
   "codemirror_mode": {
    "name": "ipython",
    "version": 3
   },
   "file_extension": ".py",
   "mimetype": "text/x-python",
   "name": "python",
   "nbconvert_exporter": "python",
   "pygments_lexer": "ipython3",
   "version": "3.7.2"
  },
  "toc": {
   "base_numbering": 1,
   "nav_menu": {},
   "number_sections": true,
   "sideBar": true,
   "skip_h1_title": false,
   "title_cell": "Table of Contents",
   "title_sidebar": "Contents",
   "toc_cell": false,
   "toc_position": {},
   "toc_section_display": true,
   "toc_window_display": false
  }
 },
 "nbformat": 4,
 "nbformat_minor": 2
}
