{
 "cells": [
  {
   "cell_type": "code",
   "execution_count": 12,
   "metadata": {},
   "outputs": [],
   "source": [
    "import numpy as np\n",
    "import pandas as pd\n",
    "import matplotlib.pyplot as plt\n",
    "from datetime import datetime\n",
    "import matplotlib.dates as mdate\n",
    "import matplotlib.ticker as mtick\n",
    "import os\n",
    "from openpyxl import load_workbook\n",
    "%matplotlib inline"
   ]
  },
  {
   "cell_type": "markdown",
   "metadata": {},
   "source": [
    "* load data, and seperate GMV, Sales, and ATV"
   ]
  },
  {
   "cell_type": "code",
   "execution_count": 2,
   "metadata": {},
   "outputs": [],
   "source": [
    "def load_data(path,unit = 1, index=None, growpby=None):\n",
    "    '''导入数据，并分别生成gmv,sales和atv三个数据表\n",
    "    '''\n",
    "    data = pd.read_excel(path, index_col=index)\n",
    "    data['gmv'] = data['gmv'] / unit\n",
    "    data['sale_qtty'] = data['sale_qtty'] /unit\n",
    "    timedata = data.groupby(growpby)\n",
    "    new_data = timedata.sum()\n",
    "    gmv = new_data['gmv'].unstack()\n",
    "    sales = new_data['sale_qtty'].unstack()\n",
    "    atv = gmv / sales\n",
    "    return gmv, sales, atv"
   ]
  },
  {
   "cell_type": "markdown",
   "metadata": {},
   "source": [
    "* load brands or catelog list"
   ]
  },
  {
   "cell_type": "code",
   "execution_count": 3,
   "metadata": {},
   "outputs": [],
   "source": [
    "def load_cat(path,name):\n",
    "    '''导入品牌目录，并根据品类（name）获取品牌列表\n",
    "    '''\n",
    "    brands = pd.read_excel(path).fillna(0)\n",
    "    brand_lit =brands[name].tolist()\n",
    "    while 0 in brand_lit:\n",
    "        brand_lit.remove(0)\n",
    "    return brand_lit"
   ]
  },
  {
   "cell_type": "markdown",
   "metadata": {},
   "source": [
    "* calculate the growth"
   ]
  },
  {
   "cell_type": "code",
   "execution_count": 4,
   "metadata": {},
   "outputs": [],
   "source": [
    "def yoy_growth(df,period):\n",
    "    '''计算yoy增长率\n",
    "    '''\n",
    "    tmp = df.to_period(period).groupby('dt').sum()\n",
    "    tmp1 = tmp['2018']\n",
    "    tmp2 =tmp['2019']\n",
    "    growth = tmp2.copy()\n",
    "    m,n = tmp2.shape\n",
    "    for i in range(n):\n",
    "        for j in range(m):\n",
    "            growth.iloc[j,i] =(tmp2.iloc[j,i]/tmp1.iloc[j,i]-1)\n",
    "    return growth"
   ]
  },
  {
   "cell_type": "code",
   "execution_count": 5,
   "metadata": {},
   "outputs": [],
   "source": [
    "def cr_growth(df,period):\n",
    "    '''计算环比增长率\n",
    "    '''\n",
    "    tmp = df.to_period(period).groupby('dt').sum()\n",
    "    growth = tmp.copy()\n",
    "    m,n = tmp.shape\n",
    "    for i in range(n):\n",
    "            growth.iloc[:,i] = (tmp.iloc[:,i]/tmp.iloc[:,i].shift(1) -1)\n",
    "    return growth"
   ]
  },
  {
   "cell_type": "markdown",
   "metadata": {},
   "source": [
    "* save datas"
   ]
  },
  {
   "cell_type": "code",
   "execution_count": 6,
   "metadata": {},
   "outputs": [],
   "source": [
    "def bubble_data(gmv,date,kind = None,cat_gmv = None,brands = None):\n",
    "    '''格式化需要画泡泡图的数据\n",
    "    input:  gmv（df）：需要画泡泡图的数据\n",
    "            date(str): 日期 ‘2019-04-01’\n",
    "            kind(str): 数据的类型（cat = '分品类'，其他表示具体的品牌数据）\n",
    "            cat_gmv(df): 品类的总数据；当cat为品牌时，必选。\n",
    "            brands(str)：品类的名称，当cat为品牌时，必选。\n",
    "    output: bubble(df): 返回泡泡数据，份额、增速和gmv\n",
    "    '''\n",
    "    if kind == \"大家电\" or kind == \"小家电\":\n",
    "        kind = '家用电器'\n",
    "    if kind == \"cat\":\n",
    "        data = gmv.loc[date,:]\n",
    "        total = data.sum()\n",
    "        gmv_pct = data / total\n",
    "        gmv_yoy = yoy_growth(gmv,\"M\").loc[date,:]\n",
    "    else:\n",
    "        total = cat_gmv.loc[date,kind]\n",
    "        data = gmv[brands].loc[date,:]\n",
    "        gmv_pct = data / total\n",
    "        gmv_yoy = yoy_growth(gmv,\"M\")[brands].loc[date,:]\n",
    "    bubble = pd.DataFrame(gmv_pct)\n",
    "    bubble.columns = ['平均市场份额']\n",
    "    bubble[\"销售额增速\"] = np.array(gmv_yoy)\n",
    "    bubble[\"销售额\"] = np.array(data)\n",
    "    return bubble\n",
    "\n",
    "def save_bubble(gmv,cat_gmv,catalog,catlist,date,bubblepath):\n",
    "    '''保存bubble数据\n",
    "    '''\n",
    "    writer = pd.ExcelWriter(date + bubblepath)\n",
    "    cat_bubble = bubble_data(cat_gmv,date,kind='cat')\n",
    "    cat_bubble.to_excel(writer,sheet_name = '平台')\n",
    "    for kind in catlist:\n",
    "        brands = load_cat(catalog,kind)\n",
    "        b_brand = bubble_data(gmv,date,kind = kind,cat_gmv = cat_gmv,brands = brands)\n",
    "        b_brand.to_excel(writer,sheet_name=kind)\n",
    "    writer.save()\n",
    "    writer.close()"
   ]
  },
  {
   "cell_type": "code",
   "execution_count": 7,
   "metadata": {},
   "outputs": [],
   "source": [
    "def save_cat_sheet(df,path,name):\n",
    "    '''保存品类数据\n",
    "    input: df（df）: 需要整理的原始数据\n",
    "            path(str)：保存的路径\n",
    "            name: sheet 名\n",
    "    '''\n",
    "    n = df.shape[0]\n",
    "    my_growth = yoy_growth(df,'M')\n",
    "    qy_growth = yoy_growth(df,\"Q\")\n",
    "    c_growth = cr_growth(df,\"M\")\n",
    "\n",
    "    workbook = load_workbook(path)\n",
    "    writer = pd.ExcelWriter(path,engine='openpyxl')\n",
    "    writer.book = workbook\n",
    "    if name in workbook.sheetnames:\n",
    "        workbook.remove(workbook[name])\n",
    "        workbook.save(path)\n",
    "    df.to_excel(writer,sheet_name=name)\n",
    "    my_growth.to_excel(writer,sheet_name=name,startrow=n+3)\n",
    "    qy_growth.to_excel(writer,sheet_name=name,startrow=2*n+3)\n",
    "    c_growth.to_excel(writer,sheet_name=name,startrow=3*n+3)\n",
    "    writer.save()\n",
    "    writer.close()\n",
    "    \n",
    "def save_cat(path):\n",
    "    save_cat_sheet(cat_gmv,path,'gmv')\n",
    "    save_cat_sheet(cat_sales,path,'sales')\n",
    "    save_cat_sheet(cat_atv,path,'atv')"
   ]
  },
  {
   "cell_type": "code",
   "execution_count": 136,
   "metadata": {},
   "outputs": [],
   "source": [
    "def save_brand(cat,path,cat_path,gmv, sales, atv,gmv_g,sales_g,atv_g):\n",
    "    '''保存品牌数据\n",
    "    input: cat（str）: 需要整理的品类的名称\n",
    "            path(str)：保存的路径\n",
    "    '''\n",
    "    brands = load_cat(cat_path,cat)  \n",
    "    gmv = gmv[brands]\n",
    "    sales = sales[brands]\n",
    "    atv = atv[brands]\n",
    "    gmv_g = gmv_g[brands]\n",
    "    sales_g = sales_g[brands]\n",
    "    atv_g = atv_g[brands]\n",
    "    \n",
    "    m,n = gmv.shape\n",
    "    workbook = load_workbook(path)\n",
    "    writer = pd.ExcelWriter(path,engine='openpyxl')\n",
    "    writer.book = workbook\n",
    "    if cat in workbook.sheetnames:\n",
    "        workbook.remove(workbook[cat])\n",
    "        workbook.save(path)\n",
    "    \n",
    "    gmv.to_excel(writer,sheet_name=cat)\n",
    "    gmv_g.to_excel(writer,sheet_name=cat,startcol = n+3 )\n",
    "    \n",
    "    sales.to_excel(writer,sheet_name=cat,startrow=m+3)\n",
    "    sales_g.to_excel(writer,sheet_name=cat,startrow=m+3,startcol=n+3)\n",
    "    \n",
    "    atv.to_excel(writer,sheet_name=cat,startrow=2*m+6)\n",
    "    atv_g.to_excel(writer,sheet_name=cat,startrow=2*m+6,startcol=n+3)\n",
    "    writer.save()\n",
    "    writer.close()"
   ]
  },
  {
   "cell_type": "markdown",
   "metadata": {},
   "source": [
    "* 运行"
   ]
  },
  {
   "cell_type": "code",
   "execution_count": 39,
   "metadata": {},
   "outputs": [],
   "source": [
    "unit = 100000000\n",
    "cat_gmv, cat_sales, cat_atv = load_data('Tmall_cat.xlsx', index='dt', growpby=['dt','cid1_name'],unit = unit)\n",
    "gmv, sales, atv = load_data('Tmall_brand.xlsx', index='dt', growpby=['dt', 'main_brand_name'],unit=unit)"
   ]
  },
  {
   "cell_type": "code",
   "execution_count": 40,
   "metadata": {},
   "outputs": [
    {
     "name": "stderr",
     "output_type": "stream",
     "text": [
      "D:\\anaconda\\envs\\dataServer\\lib\\site-packages\\ipykernel_launcher.py:11: RuntimeWarning: divide by zero encountered in double_scalars\n",
      "  # This is added back by InteractiveShellApp.init_path()\n"
     ]
    }
   ],
   "source": [
    "gmv_g = yoy_growth(gmv,\"M\")\n",
    "sales_g = yoy_growth(sales,\"M\")\n",
    "atv_g = yoy_growth(atv,\"M\")"
   ]
  },
  {
   "cell_type": "code",
   "execution_count": 32,
   "metadata": {},
   "outputs": [],
   "source": [
    "catlist = ['医药保健','酒类','大家电','小家电','美妆个护','服装鞋包']"
   ]
  },
  {
   "cell_type": "code",
   "execution_count": 36,
   "metadata": {},
   "outputs": [],
   "source": [
    "path = 'Tmall_cat.xlsx'\n",
    "save_cat(path)"
   ]
  },
  {
   "cell_type": "code",
   "execution_count": 45,
   "metadata": {},
   "outputs": [],
   "source": [
    "brand_path = \"Tmall_brand.xlsx\"\n",
    "cat_path = 'brand_catalog.xlsx'\n",
    "for cat in catlist:\n",
    "    save_brand(cat,brand_path,gmv, sales, atv,gmv_g,sales_g,atv_g)"
   ]
  },
  {
   "cell_type": "code",
   "execution_count": 150,
   "metadata": {},
   "outputs": [
    {
     "name": "stderr",
     "output_type": "stream",
     "text": [
      "D:\\anaconda\\envs\\dataServer\\lib\\site-packages\\ipykernel_launcher.py:11: RuntimeWarning: divide by zero encountered in double_scalars\n",
      "  # This is added back by InteractiveShellApp.init_path()\n"
     ]
    }
   ],
   "source": [
    "date = '2019-04-01'\n",
    "bubblepath = 'bubble_data.xlsx'\n",
    "catalog = 'brand_catalog.xlsx'\n",
    "save_bubble(gmv,cat_gmv,catalog,catlist,date,bubblepath)"
   ]
  },
  {
   "cell_type": "code",
   "execution_count": 9,
   "metadata": {},
   "outputs": [],
   "source": [
    "unit = 100000000\n",
    "date = '2019-04-01'\n",
    "# 1.导入品类和品牌的原始数据\n",
    "brand_path_D = \"./JD/JD_brands.xlsx\"\n",
    "cat_path_D = './JD/JD_cats.xlsx'\n",
    "cat_gmv_D, cat_sales_D, cat_atv_D = load_data(\n",
    "    cat_path_D, index='dt', growpby=[\n",
    "        'dt', 'cid1_name','source'], unit=unit)\n",
    "gmv_D, sales_D, atv_D = load_data(\n",
    "    brand_path_D, index='dt', growpby=[\n",
    "        'dt', 'main_brand_name','source'], unit=unit)"
   ]
  },
  {
   "cell_type": "code",
   "execution_count": 13,
   "metadata": {},
   "outputs": [
    {
     "ename": "AttributeError",
     "evalue": "'MultiIndex' object has no attribute 'to_period'",
     "output_type": "error",
     "traceback": [
      "\u001b[1;31m---------------------------------------------------------------------------\u001b[0m",
      "\u001b[1;31mAttributeError\u001b[0m                            Traceback (most recent call last)",
      "\u001b[1;32m<ipython-input-13-c752093af8cf>\u001b[0m in \u001b[0;36m<module>\u001b[1;34m\u001b[0m\n\u001b[0;32m      1\u001b[0m \u001b[1;31m# 2. 计算增长率\u001b[0m\u001b[1;33m\u001b[0m\u001b[1;33m\u001b[0m\u001b[1;33m\u001b[0m\u001b[0m\n\u001b[1;32m----> 2\u001b[1;33m \u001b[0mgmv_g_D\u001b[0m \u001b[1;33m=\u001b[0m \u001b[0myoy_growth\u001b[0m\u001b[1;33m(\u001b[0m\u001b[0mgmv_D\u001b[0m\u001b[1;33m,\u001b[0m \u001b[1;34m\"M\"\u001b[0m\u001b[1;33m)\u001b[0m\u001b[1;33m\u001b[0m\u001b[1;33m\u001b[0m\u001b[0m\n\u001b[0m\u001b[0;32m      3\u001b[0m \u001b[0msales_g_D\u001b[0m \u001b[1;33m=\u001b[0m \u001b[0myoy_growth\u001b[0m\u001b[1;33m(\u001b[0m\u001b[0msales_D\u001b[0m\u001b[1;33m,\u001b[0m \u001b[1;34m\"M\"\u001b[0m\u001b[1;33m)\u001b[0m\u001b[1;33m\u001b[0m\u001b[1;33m\u001b[0m\u001b[0m\n\u001b[0;32m      4\u001b[0m \u001b[0matv_g_D\u001b[0m \u001b[1;33m=\u001b[0m \u001b[0myoy_growth\u001b[0m\u001b[1;33m(\u001b[0m\u001b[0matv_D\u001b[0m\u001b[1;33m,\u001b[0m \u001b[1;34m\"M\"\u001b[0m\u001b[1;33m)\u001b[0m\u001b[1;33m\u001b[0m\u001b[1;33m\u001b[0m\u001b[0m\n",
      "\u001b[1;32m<ipython-input-4-5ee28e2e6b92>\u001b[0m in \u001b[0;36myoy_growth\u001b[1;34m(df, period)\u001b[0m\n\u001b[0;32m      2\u001b[0m     '''计算yoy增长率\n\u001b[0;32m      3\u001b[0m     '''\n\u001b[1;32m----> 4\u001b[1;33m     \u001b[0mtmp\u001b[0m \u001b[1;33m=\u001b[0m \u001b[0mdf\u001b[0m\u001b[1;33m.\u001b[0m\u001b[0mto_period\u001b[0m\u001b[1;33m(\u001b[0m\u001b[0mperiod\u001b[0m\u001b[1;33m)\u001b[0m\u001b[1;33m.\u001b[0m\u001b[0mgroupby\u001b[0m\u001b[1;33m(\u001b[0m\u001b[1;34m'dt'\u001b[0m\u001b[1;33m)\u001b[0m\u001b[1;33m.\u001b[0m\u001b[0msum\u001b[0m\u001b[1;33m(\u001b[0m\u001b[1;33m)\u001b[0m\u001b[1;33m\u001b[0m\u001b[1;33m\u001b[0m\u001b[0m\n\u001b[0m\u001b[0;32m      5\u001b[0m     \u001b[0mtmp1\u001b[0m \u001b[1;33m=\u001b[0m \u001b[0mtmp\u001b[0m\u001b[1;33m[\u001b[0m\u001b[1;34m'2018'\u001b[0m\u001b[1;33m]\u001b[0m\u001b[1;33m\u001b[0m\u001b[1;33m\u001b[0m\u001b[0m\n\u001b[0;32m      6\u001b[0m     \u001b[0mtmp2\u001b[0m \u001b[1;33m=\u001b[0m\u001b[0mtmp\u001b[0m\u001b[1;33m[\u001b[0m\u001b[1;34m'2019'\u001b[0m\u001b[1;33m]\u001b[0m\u001b[1;33m\u001b[0m\u001b[1;33m\u001b[0m\u001b[0m\n",
      "\u001b[1;32mD:\\Anaconda\\lib\\site-packages\\pandas\\core\\frame.py\u001b[0m in \u001b[0;36mto_period\u001b[1;34m(self, freq, axis, copy)\u001b[0m\n\u001b[0;32m   7244\u001b[0m         \u001b[0maxis\u001b[0m \u001b[1;33m=\u001b[0m \u001b[0mself\u001b[0m\u001b[1;33m.\u001b[0m\u001b[0m_get_axis_number\u001b[0m\u001b[1;33m(\u001b[0m\u001b[0maxis\u001b[0m\u001b[1;33m)\u001b[0m\u001b[1;33m\u001b[0m\u001b[1;33m\u001b[0m\u001b[0m\n\u001b[0;32m   7245\u001b[0m         \u001b[1;32mif\u001b[0m \u001b[0maxis\u001b[0m \u001b[1;33m==\u001b[0m \u001b[1;36m0\u001b[0m\u001b[1;33m:\u001b[0m\u001b[1;33m\u001b[0m\u001b[1;33m\u001b[0m\u001b[0m\n\u001b[1;32m-> 7246\u001b[1;33m             \u001b[0mnew_data\u001b[0m\u001b[1;33m.\u001b[0m\u001b[0mset_axis\u001b[0m\u001b[1;33m(\u001b[0m\u001b[1;36m1\u001b[0m\u001b[1;33m,\u001b[0m \u001b[0mself\u001b[0m\u001b[1;33m.\u001b[0m\u001b[0mindex\u001b[0m\u001b[1;33m.\u001b[0m\u001b[0mto_period\u001b[0m\u001b[1;33m(\u001b[0m\u001b[0mfreq\u001b[0m\u001b[1;33m=\u001b[0m\u001b[0mfreq\u001b[0m\u001b[1;33m)\u001b[0m\u001b[1;33m)\u001b[0m\u001b[1;33m\u001b[0m\u001b[1;33m\u001b[0m\u001b[0m\n\u001b[0m\u001b[0;32m   7247\u001b[0m         \u001b[1;32melif\u001b[0m \u001b[0maxis\u001b[0m \u001b[1;33m==\u001b[0m \u001b[1;36m1\u001b[0m\u001b[1;33m:\u001b[0m\u001b[1;33m\u001b[0m\u001b[1;33m\u001b[0m\u001b[0m\n\u001b[0;32m   7248\u001b[0m             \u001b[0mnew_data\u001b[0m\u001b[1;33m.\u001b[0m\u001b[0mset_axis\u001b[0m\u001b[1;33m(\u001b[0m\u001b[1;36m0\u001b[0m\u001b[1;33m,\u001b[0m \u001b[0mself\u001b[0m\u001b[1;33m.\u001b[0m\u001b[0mcolumns\u001b[0m\u001b[1;33m.\u001b[0m\u001b[0mto_period\u001b[0m\u001b[1;33m(\u001b[0m\u001b[0mfreq\u001b[0m\u001b[1;33m=\u001b[0m\u001b[0mfreq\u001b[0m\u001b[1;33m)\u001b[0m\u001b[1;33m)\u001b[0m\u001b[1;33m\u001b[0m\u001b[1;33m\u001b[0m\u001b[0m\n",
      "\u001b[1;31mAttributeError\u001b[0m: 'MultiIndex' object has no attribute 'to_period'"
     ]
    }
   ],
   "source": [
    "# 2. 计算增长率\n",
    "gmv_g_D = yoy_growth(gmv_D, \"M\")\n",
    "sales_g_D = yoy_growth(sales_D, \"M\")\n",
    "atv_g_D = yoy_growth(atv_D, \"M\")"
   ]
  },
  {
   "cell_type": "code",
   "execution_count": null,
   "metadata": {},
   "outputs": [],
   "source": [
    "    # 2. 计算增长率\n",
    "    gmv_g_D = yoy_growth(gmv_D, \"M\")\n",
    "    sales_g_D = yoy_growth(sales_D, \"M\")\n",
    "    atv_g_D = yoy_growth(atv_D, \"M\")\n",
    "\n",
    "    # 3. 保存品类数据\n",
    "\n",
    "    save_cat_sheet(cat_gmv_D, cat_path_D, 'gmv')\n",
    "    save_cat_sheet(cat_sales_D, cat_path_D, 'sales')\n",
    "    save_cat_sheet(cat_atv_D, cat_path_D, 'atv')\n",
    "\n",
    "    # 4. 保存品牌数据\n",
    "    catlist_D = ['医药保健', '酒类', '大家电', '小家电', '食品饮料及生鲜']\n",
    "    cat_name_path_D = './JD/JD_catalog.xlsx'\n",
    "    for cat in catlist_D:\n",
    "        save_brand(\n",
    "            cat,\n",
    "            brand_path_D,\n",
    "            cat_name_path_D,\n",
    "            gmv_D,\n",
    "            sales_D,\n",
    "            atv_D,\n",
    "            gmv_g_D,\n",
    "            sales_g_D,\n",
    "            atv_g_D)\n",
    "\n",
    "    # 5. 保存泡泡图格式数据\n",
    "    bubblepath_D = 'bubble_data_JD.xlsx'\n",
    "    save_bubble(\n",
    "        gmv_D,\n",
    "        cat_gmv_D,\n",
    "        cat_name_path_D,\n",
    "        catlist_D,\n",
    "        date,\n",
    "        bubblepath_D,\n",
    "        \"./JD/\")"
   ]
  }
 ],
 "metadata": {
  "kernelspec": {
   "display_name": "dataServer",
   "language": "python",
   "name": "dataserver"
  },
  "language_info": {
   "codemirror_mode": {
    "name": "ipython",
    "version": 3
   },
   "file_extension": ".py",
   "mimetype": "text/x-python",
   "name": "python",
   "nbconvert_exporter": "python",
   "pygments_lexer": "ipython3",
   "version": "3.7.1"
  },
  "toc": {
   "base_numbering": 1,
   "nav_menu": {},
   "number_sections": true,
   "sideBar": true,
   "skip_h1_title": false,
   "title_cell": "Table of Contents",
   "title_sidebar": "Contents",
   "toc_cell": false,
   "toc_position": {},
   "toc_section_display": true,
   "toc_window_display": false
  }
 },
 "nbformat": 4,
 "nbformat_minor": 2
}
